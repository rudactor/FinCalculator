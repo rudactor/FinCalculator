{
 "cells": [
  {
   "cell_type": "markdown",
   "id": "312f566e",
   "metadata": {},
   "source": [
    "<h1>Текстовый калькулятор</h1>\n",
    "Студент: Алексеенко Денис <br>  \n",
    "Группа: ТРПО25-2"
   ]
  },
  {
   "cell_type": "markdown",
   "id": "fcd4671f",
   "metadata": {},
   "source": [
    "<h2>Базовое задание. </h2>\n",
    "\n",
    "Необходимо написать функцию, которая будет работать в качестве калькулятора для строковых выражений вида \"<число> <операция> <число>\". В этом выражении <число> представляет собой неотрицательное целое число, меньшее 100, записанное словами (например, «тридцать четыре»), а <арифметическая операция> — одна из операций «плюс», «минус», «умножить». Функция должна возвращать результат выполнения операции в виде текстового представления числа."
   ]
  },
  {
   "cell_type": "markdown",
   "id": "6b0ceef7",
   "metadata": {},
   "source": [
    "Заводим словарь где слово обозначает цифру"
   ]
  },
  {
   "cell_type": "code",
   "execution_count": 57,
   "id": "b904db0b",
   "metadata": {},
   "outputs": [],
   "source": [
    "dict_of_numbers = {\n",
    "    \"один\": \"1\",\n",
    "    \"два\": \"2\",\n",
    "    \"три\": \"3\",\n",
    "    \"четыре\": \"4\",\n",
    "    \"пять\": \"5\",\n",
    "    \"шесть\": \"6\",\n",
    "    \"семь\": \"7\",\n",
    "    \"восемь\": \"8\",\n",
    "    \"девять\": \"9\",\n",
    "    \"ноль\": \"0\",\n",
    "    \"десять\": \"10\",\n",
    "    \"одиннадцать\": \"11\",\n",
    "    \"двенадцать\": \"12\",\n",
    "    \"тринадцать\": \"13\",\n",
    "    \"четырнадцать\": \"14\",\n",
    "    \"пятнадцать\": \"15\",\n",
    "    \"шестнадцать\": \"16\",\n",
    "    \"семнадцать\": \"17\",\n",
    "    \"восемнадцать\": \"18\",\n",
    "    \"девятнацать\": \"19\"    \n",
    "}"
   ]
  },
  {
   "cell_type": "code",
   "execution_count": 58,
   "id": "0d4ea09e",
   "metadata": {},
   "outputs": [],
   "source": [
    "dict_of_big_numbers = {\n",
    "    \"двацать\": \"20\",\n",
    "    \"тридцать\": \"30\",\n",
    "    \"сорок\": \"40\",\n",
    "    \"пятьдесят\": \"50\",\n",
    "    \"шестьдесят\": \"60\",\n",
    "    \"семьдесять\": \"70\",\n",
    "    \"восемьдесять\": \"80\",\n",
    "    \"девяносто\": '90'\n",
    "}"
   ]
  },
  {
   "cell_type": "code",
   "execution_count": 59,
   "id": "fbd47c3b",
   "metadata": {},
   "outputs": [],
   "source": [
    "dict_of_operations = {\n",
    "    \"плюс\": \"+\",\n",
    "    \"минус\": \"-\",\n",
    "    \"умножить\": \"*\"\n",
    "}"
   ]
  },
  {
   "cell_type": "code",
   "execution_count": null,
   "id": "1c6f914a",
   "metadata": {},
   "outputs": [],
   "source": [
    "def calc(string: str) -> int:\n",
    "    list_string_numbers = string.split()\n",
    "    string_end = \"\"\n",
    "    for index, element in enumerate(list_string_numbers):\n",
    "        if element in dict_of_numbers:\n",
    "            string_end += dict_of_numbers[element]\n",
    "        elif element in dict_of_operations:\n",
    "            string_end += dict_of_operations[element]\n",
    "        elif element in dict_of_big_numbers:\n",
    "            if list_string_numbers[index + 1] in dict_of_numbers: \n",
    "                string_end += dict_of_big_numbers[element] + \"+\"\n",
    "            else:\n",
    "                string_end += dict_of_big_numbers[element]\n",
    "    result = eval(string_end)\n",
    "    \n",
    "    "
   ]
  },
  {
   "cell_type": "code",
   "execution_count": 61,
   "id": "fe12c146",
   "metadata": {},
   "outputs": [
    {
     "name": "stdout",
     "output_type": "stream",
     "text": [
      "51\n"
     ]
    }
   ],
   "source": [
    "print(calc(\"пятьдесят шесть минус пять\"))"
   ]
  }
 ],
 "metadata": {
  "kernelspec": {
   "display_name": "Python 3",
   "language": "python",
   "name": "python3"
  },
  "language_info": {
   "codemirror_mode": {
    "name": "ipython",
    "version": 3
   },
   "file_extension": ".py",
   "mimetype": "text/x-python",
   "name": "python",
   "nbconvert_exporter": "python",
   "pygments_lexer": "ipython3",
   "version": "3.9.6"
  }
 },
 "nbformat": 4,
 "nbformat_minor": 5
}
